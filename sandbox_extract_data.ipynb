{
 "cells": [
  {
   "attachments": {},
   "cell_type": "markdown",
   "metadata": {},
   "source": [
    "### Yを予測するための効率的なトレーニングデータの抽出検討"
   ]
  },
  {
   "cell_type": "code",
   "execution_count": 2,
   "metadata": {},
   "outputs": [],
   "source": [
    "import pandas as pd\n",
    "import numpy as np\n",
    "import matplotlib.pyplot as plt\n",
    "import os\n",
    "import pubchempy\n",
    "import random\n",
    " \n",
    "from ord_schema import message_helpers, validations\n",
    "from ord_schema.proto import dataset_pb2\n",
    "from rdkit import rdBase, Chem, DataStructs\n",
    "from rdkit.Avalon import pyAvalonTools\n",
    "from rdkit.Chem import AllChem, Draw, rdMHFPFingerprint\n",
    "from rdkit.Chem.Fingerprints import FingerprintMols\n",
    "from rdkit.Chem.AtomPairs import Pairs, Torsions"
   ]
  },
  {
   "cell_type": "code",
   "execution_count": 3,
   "metadata": {},
   "outputs": [
    {
     "name": "stdout",
     "output_type": "stream",
     "text": [
      "count                                               750\n",
      "unique                                              750\n",
      "top       <rdkit.Chem.rdchem.Mol object at 0x15c6b19a0>\n",
      "freq                                                  1\n",
      "Name: A, dtype: object\n",
      "count                                               750\n",
      "unique                                              750\n",
      "top       <rdkit.Chem.rdchem.Mol object at 0x15c6cdb60>\n",
      "freq                                                  1\n",
      "Name: B, dtype: object\n"
     ]
    }
   ],
   "source": [
    "pb = \"./practice/ord_dataset-00005539a1e04c809a9a78647bea649c.pb.gz\" #Buchwald-Hartwig Reaction datasetの読み込み \n",
    "data = message_helpers.load_message(pb, dataset_pb2.Dataset) #生データであるjson型式のデータファイルとして読み取っている?\n",
    "df = message_helpers.messages_to_dataframe(data.reactions, drop_constant_columns=False) #jsonからdataframeへ変換\n",
    "\n",
    "#元dfからA+B→Yとなる部分だけ抜き出してDataFrameにする\n",
    "df = df[[ \\\n",
    "    'inputs[\"aryl halide\"].components[0].identifiers[0].value', \\\n",
    "    'inputs[\"amine\"].components[0].identifiers[0].value', \\\n",
    "    'outcomes[0].products[0].identifiers[0].value' \\\n",
    "    ]] \n",
    "\n",
    "df.columns = list('ABY') #列ラベルをわかりやすく A,B,Yに変換\n",
    "\n",
    "#SMILESからMOLオブジェクトを生成する関数を定義\n",
    "def generate_mol(smiles):\n",
    "    try:\n",
    "        mol = Chem.MolFromSmiles(smiles)\n",
    "        return mol\n",
    "    except:\n",
    "        return None\n",
    "\n",
    "# dfのすべてのA,B 要素に対してMolオブジェクトを生成する\n",
    "sr_mol_A = df[\"A\"].apply(lambda smiles: generate_mol(smiles))\n",
    "sr_mol_B = df[\"B\"].apply(lambda smiles: generate_mol(smiles))\n",
    "\n",
    "print(sr_mol_A.describe())\n",
    "print(sr_mol_B.describe())\n",
    "\n",
    "buchwald_hardwig_smiles_df = df.drop_duplicates()\n",
    "buchwald_hardwig_smiles_df.insert(0, \":\", \":\")\n",
    "buchwald_hardwig_smiles_df.insert(2, \"+\", \"+\")\n",
    "buchwald_hardwig_smiles_df.insert(4, \"→\", \"→\")\n",
    "#buchwald_hardwig_smiles_df.insert(6, \"\\\", \"\\\")\n",
    "#buchwald_hardwig_smiles_df"
   ]
  },
  {
   "attachments": {},
   "cell_type": "markdown",
   "metadata": {},
   "source": [
    "## Buchwald-Hartwig Reaction データセット の FingerPrint　と　類似性\n",
    "\n",
    "タニモト係数\n",
    "\n",
    "Tanimoto Coefficient = c / (a + b - c)\n",
    "\n",
    "・aは分子Aのビット配列で1が立っている数\n",
    "\n",
    "・bは分子Bのビット配列で1が立っている数\n",
    "\n",
    "・cは分子AとBで共通に1が立っている数"
   ]
  },
  {
   "cell_type": "code",
   "execution_count": 4,
   "metadata": {},
   "outputs": [],
   "source": [
    "# 以下の化合物をテストデータとしてデータセットの各化合物とタニモト係数を計算する\n",
    "#reactant_A = \"CC1=NN(C=C1NC2=NC=C(C(=C2)I)C(F)(F)F)C\"\n",
    "#reactant_B = \"CONC(=O)C1=CC=CC=C1N\"\n",
    "\n",
    "#mol_A = random.choice(sr_mol_A)\n",
    "#mol_B = random.choice(sr_mol_B)\n",
    "\n",
    "#Fingerprintから対象のテスト分子に対する関数を定義 \n",
    "def calc_fps_tanimoto(test_fps, fps):\n",
    "    fps_tnmt_coeffi = DataStructs.TanimotoSimilarity(test_fps, fps)\n",
    "    return fps_tnmt_coeffi"
   ]
  },
  {
   "attachments": {},
   "cell_type": "markdown",
   "metadata": {},
   "source": [
    "1. MACCS Keys\n",
    "\n",
    "    AllChem.GetMACCSKeysFingerprint(mol)\n",
    "\n",
    "    166の部分構造について部分構造を有する場合は1が無い場合は0が格納される"
   ]
  },
  {
   "cell_type": "code",
   "execution_count": 5,
   "metadata": {},
   "outputs": [
    {
     "name": "stdout",
     "output_type": "stream",
     "text": [
      "count    737.000000\n",
      "mean       0.298377\n",
      "std        0.126907\n",
      "min        0.100000\n",
      "25%        0.214286\n",
      "50%        0.259259\n",
      "75%        0.347826\n",
      "max        0.863636\n",
      "Name: A, dtype: float64\n",
      "count    707.000000\n",
      "mean       0.371793\n",
      "std        0.177869\n",
      "min        0.078431\n",
      "25%        0.233259\n",
      "50%        0.333333\n",
      "75%        0.469388\n",
      "max        0.937500\n",
      "Name: B, dtype: float64\n"
     ]
    }
   ],
   "source": [
    "#MACCAS Keys Fingerprintを生成する関数を定義 \n",
    "def generate_maccs_fps(mol):\n",
    "    maccs_fps = AllChem.GetMACCSKeysFingerprint(mol)\n",
    "    return maccs_fps\n",
    "\n",
    "#sr_molの各要素に対して maccs_fps を生成\n",
    "sr_maccs_fps_A = sr_mol_A.apply(lambda mol: generate_maccs_fps(mol))\n",
    "sr_maccs_fps_B = sr_mol_B.apply(lambda mol: generate_maccs_fps(mol))\n",
    "\n",
    "#テスト分子ABのfpsをランダムに抜き出す\n",
    "test_A_maccs_fps = random.choice(sr_maccs_fps_A)\n",
    "test_B_maccs_fps = random.choice(sr_maccs_fps_B)\n",
    "\n",
    "#sr_maccs_fpsの各要素に対して タニモト係数 を計算\n",
    "sr_maccs_fps_tnmt_A = sr_maccs_fps_A.apply(lambda fps: calc_fps_tanimoto(test_A_maccs_fps, fps) \\\n",
    "                                           if fps != test_A_maccs_fps else None).dropna()\n",
    "sr_maccs_fps_tnmt_B = sr_maccs_fps_B.apply(lambda fps: calc_fps_tanimoto(test_B_maccs_fps, fps)  \\\n",
    "                                           if fps != test_B_maccs_fps else None).dropna()\n",
    "\n",
    "print(sr_maccs_fps_tnmt_A.describe()) \n",
    "print(sr_maccs_fps_tnmt_B.describe())\n",
    "\n"
   ]
  },
  {
   "attachments": {},
   "cell_type": "markdown",
   "metadata": {},
   "source": [
    "2. Topologicalフィンガープリント (RDKitフィンガープリント)\n",
    "\n",
    "    Chem.RDKFingerprint(mol)\n",
    "\n",
    "    一定の結合数に相当する原子と結合種類を格納(?)"
   ]
  },
  {
   "cell_type": "code",
   "execution_count": 6,
   "metadata": {},
   "outputs": [
    {
     "name": "stdout",
     "output_type": "stream",
     "text": [
      "count    748.000000\n",
      "mean       0.142669\n",
      "std        0.152393\n",
      "min        0.033898\n",
      "25%        0.059459\n",
      "50%        0.077796\n",
      "75%        0.127889\n",
      "max        0.833333\n",
      "Name: A, dtype: float64\n",
      "count    736.000000\n",
      "mean       0.074561\n",
      "std        0.110884\n",
      "min        0.000000\n",
      "25%        0.013239\n",
      "50%        0.023310\n",
      "75%        0.095890\n",
      "max        0.578947\n",
      "Name: B, dtype: float64\n"
     ]
    }
   ],
   "source": [
    "#Topological(Rdkit) Fingerprintを生成する関数を定義 \n",
    "def generate_rdkit_fps(mol):\n",
    "    rdkit_fps = Chem.RDKFingerprint(mol)\n",
    "    return rdkit_fps\n",
    "\n",
    "#df_molの各要素に対して rdkit_fps を生成\n",
    "sr_rdkit_fps_A = sr_mol_A.apply(lambda mol: generate_rdkit_fps(mol))\n",
    "sr_rdkit_fps_B = sr_mol_B.apply(lambda mol: generate_rdkit_fps(mol))\n",
    "#rdkit_fps_df\n",
    "\n",
    "#テスト分子ABのfpsをランダムに抜き出す\n",
    "test_A_rdkit_fps = random.choice(sr_rdkit_fps_A)\n",
    "test_B_rdkit_fps = random.choice(sr_rdkit_fps_B)\n",
    "\n",
    "#sr_rdkit_fpsの各要素に対して タニモト係数 を計算\n",
    "sr_rdkit_fps_tnmt_A = sr_rdkit_fps_A.apply(lambda fps: calc_fps_tanimoto(test_A_rdkit_fps, fps) \\\n",
    "                                           if fps != test_A_rdkit_fps else None).dropna()\n",
    "sr_rdkit_fps_tnmt_B = sr_rdkit_fps_B.apply(lambda fps: calc_fps_tanimoto(test_B_rdkit_fps, fps) \\\n",
    "                                           if fps != test_B_rdkit_fps else None).dropna()\n",
    "\n",
    "print(sr_rdkit_fps_tnmt_A.describe()) \n",
    "print(sr_rdkit_fps_tnmt_B.describe())"
   ]
  },
  {
   "attachments": {},
   "cell_type": "markdown",
   "metadata": {},
   "source": [
    "3. Morganフィンガープリント (Circularフィンガープリント)\n",
    "\n",
    "    AllChem.GetMorganFingerprintAsBitVect(mol, radius, nBits)\n",
    "\n",
    "    基準となる原子からある距離にある部分構造を数え上げていく"
   ]
  },
  {
   "cell_type": "code",
   "execution_count": 7,
   "metadata": {},
   "outputs": [
    {
     "name": "stdout",
     "output_type": "stream",
     "text": [
      "count    749.000000\n",
      "mean       0.136355\n",
      "std        0.054417\n",
      "min        0.042254\n",
      "25%        0.098361\n",
      "50%        0.131579\n",
      "75%        0.160714\n",
      "max        0.307692\n",
      "Name: A, dtype: float64\n",
      "count    734.000000\n",
      "mean       0.070837\n",
      "std        0.043092\n",
      "min        0.000000\n",
      "25%        0.033333\n",
      "50%        0.071429\n",
      "75%        0.094340\n",
      "max        0.428571\n",
      "Name: B, dtype: float64\n"
     ]
    }
   ],
   "source": [
    "#Morgan Fingerprintを生成する関数を定義 \n",
    "def generate_morgan_fps(mol, radius, nBits):\n",
    "    morgan_fps = AllChem.GetMorganFingerprintAsBitVect(mol, radius, nBits)\n",
    "    return morgan_fps\n",
    "\n",
    "#df_molの各要素に対して maccs_fps を生成\n",
    "sr_morgan_fps_A = sr_mol_A.apply(lambda mol: generate_morgan_fps(mol, 2, 2048))\n",
    "sr_morgan_fps_B = sr_mol_B.apply(lambda mol: generate_morgan_fps(mol, 2, 2048))\n",
    "#morgan_fps_df\n",
    "\n",
    "#テスト分子ABのfpsをランダムに抜き出す\n",
    "test_A_morgan_fps = random.choice(sr_morgan_fps_A)\n",
    "test_B_morgan_fps = random.choice(sr_morgan_fps_B)\n",
    "\n",
    "#sr_morgan_fpsの各要素に対して タニモト係数 を計\n",
    "sr_morgan_fps_tnmt_A = sr_morgan_fps_A.apply(lambda fps: calc_fps_tanimoto(test_A_morgan_fps, fps) \\\n",
    "                                           if fps != test_A_morgan_fps else None).dropna()\n",
    "sr_morgan_fps_tnmt_B = sr_morgan_fps_B.apply(lambda fps: calc_fps_tanimoto(test_B_morgan_fps, fps) \\\n",
    "                                           if fps != test_B_morgan_fps else None).dropna()\n",
    "\n",
    "print(sr_morgan_fps_tnmt_A.describe()) \n",
    "print(sr_morgan_fps_tnmt_B.describe())"
   ]
  }
 ],
 "metadata": {
  "kernelspec": {
   "display_name": "Python 3",
   "language": "python",
   "name": "python3"
  },
  "language_info": {
   "codemirror_mode": {
    "name": "ipython",
    "version": 3
   },
   "file_extension": ".py",
   "mimetype": "text/x-python",
   "name": "python",
   "nbconvert_exporter": "python",
   "pygments_lexer": "ipython3",
   "version": "3.11.3"
  },
  "orig_nbformat": 4
 },
 "nbformat": 4,
 "nbformat_minor": 2
}
