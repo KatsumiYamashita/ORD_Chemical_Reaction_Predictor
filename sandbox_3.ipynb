{
 "cells": [
  {
   "attachments": {},
   "cell_type": "markdown",
   "metadata": {},
   "source": [
    "### ordの全てのデータセットから反応データを持ってくる検証Jupyter NoteBook"
   ]
  },
  {
   "attachments": {},
   "cell_type": "markdown",
   "metadata": {},
   "source": [
    "ライブラリのインポート"
   ]
  },
  {
   "cell_type": "code",
   "execution_count": 2,
   "metadata": {},
   "outputs": [],
   "source": [
    "import pandas as pd\n",
    "import numpy as np\n",
    "\n",
    "from ord_schema import message_helpers, validations\n",
    "from ord_schema.proto import dataset_pb2\n",
    "from rdkit import rdBase, Chem, DataStructs\n",
    "from rdkit.Avalon import pyAvalonTools\n",
    "from rdkit.Chem import AllChem, Draw, rdMHFPFingerprint, rdChemReactions\n",
    "from rdkit.Chem.Fingerprints import FingerprintMols\n",
    "from rdkit.Chem.AtomPairs import Pairs, Torsions"
   ]
  },
  {
   "cell_type": "code",
   "execution_count": 3,
   "metadata": {},
   "outputs": [],
   "source": [
    "# 結局使うのはA,B,YのSMILES.\n",
    "# 特許データがほとんど and 特許データは Reaction Smilesがデータに含まれている. \n",
    "# df にするのではなく, 元データからなるべく手数少なくReaction Smilesが取得できないか検証\n",
    "\n",
    "# ord_dataset_idをcsvファイルから取得\n",
    "dataset_ids = pd.read_csv(\"OpenReactionData_IDs.csv\")[\"Dataset ID\"]"
   ]
  },
  {
   "attachments": {},
   "cell_type": "markdown",
   "metadata": {},
   "source": [
    "Pandasによるデータの取得"
   ]
  },
  {
   "cell_type": "code",
   "execution_count": 4,
   "metadata": {},
   "outputs": [
    {
     "data": {
      "text/plain": [
       "'\\n# ABYそれぞれの化合物SMILESを格納するリストを用意する\\nA = []\\nB = []\\nY = []\\n\\n#\\u3000各dataset idに対してディレクトリを走査して生データを取得する\\nfor i in range(len(dataset_ids)):\\n\\n    # dataset id Seriesからデータセットidを取ってくる\\n    id = dataset_ids[i] \\n\\n    # dataset idの\\'ord_dataset-\\'後2文字を取得する\\n    o = len(\\'ord_dataset-\\') \\n    dir_num = id[o:o+2]\\n\\n    # dataset idのディレクトリへ移動\\n    # 生データを取得する\\n    pb = f\"./ord_datasets/ord-data/data/{dir_num}/{id}.pb.gz\"  \\n    data = message_helpers.load_message(pb, dataset_pb2.Dataset)\\n    subdataset = data.reactions\\n    \\n    # 各データセット中の各反応に対してReaction SMILESを取得する\\n    for j in range(len(subdataset)):\\n        rxn = data.reactions[j]\\n        rxn_smiles = message_helpers.get_reaction_smiles(rxn,\\n                                                         generate_if_missing = True,\\n                                                        )\\n           \\n        # Reaction SMILESから原料と生成物の数を取得する\\n        rxn_mol = AllChem.ReactionFromSmarts(rxn_smiles)\\n        numRP = rxn_mol.GetNumReactantTemplates(),                rxn_mol.GetNumProductTemplates()\\n\\n        # (原料数, 生成物数) == (2,1) の場合のみABY SMILESを取得してリストへ貼り付ける\\n        if numRP == (2,1):            \\n\\n            reactants = rxn_mol.GetReactants()\\n            A.append(Chem.MolToSmiles(reactants[0]))\\n            B.append(Chem.MolToSmiles(reactants[1]))\\n\\n            product = rxn_mol.GetProducts()\\n            Y.append(Chem.MolToSmiles(product[0]))\\n\\n#\\u3000それぞれのリストをデータフレームへまとめる\\ndf_ABY = pd.DataFrame({\"A\":A, \"B\":B, \"Y\":Y})\\n'"
      ]
     },
     "execution_count": 4,
     "metadata": {},
     "output_type": "execute_result"
    }
   ],
   "source": [
    "\"\"\"\n",
    "# ABYそれぞれの化合物SMILESを格納するリストを用意する\n",
    "A = []\n",
    "B = []\n",
    "Y = []\n",
    "\n",
    "#　各dataset idに対してディレクトリを走査して生データを取得する\n",
    "for i in range(len(dataset_ids)):\n",
    "\n",
    "    # dataset id Seriesからデータセットidを取ってくる\n",
    "    id = dataset_ids[i] \n",
    "\n",
    "    # dataset idの'ord_dataset-'後2文字を取得する\n",
    "    o = len('ord_dataset-') \n",
    "    dir_num = id[o:o+2]\n",
    "\n",
    "    # dataset idのディレクトリへ移動\n",
    "    # 生データを取得する\n",
    "    pb = f\"./ord_datasets/ord-data/data/{dir_num}/{id}.pb.gz\"  \n",
    "    data = message_helpers.load_message(pb, dataset_pb2.Dataset)\n",
    "    subdataset = data.reactions\n",
    "    \n",
    "    # 各データセット中の各反応に対してReaction SMILESを取得する\n",
    "    for j in range(len(subdataset)):\n",
    "        rxn = data.reactions[j]\n",
    "        rxn_smiles = message_helpers.get_reaction_smiles(rxn,\n",
    "                                                         generate_if_missing = True,\n",
    "                                                        )\n",
    "           \n",
    "        # Reaction SMILESから原料と生成物の数を取得する\n",
    "        rxn_mol = AllChem.ReactionFromSmarts(rxn_smiles)\n",
    "        numRP = rxn_mol.GetNumReactantTemplates(),\\\n",
    "                rxn_mol.GetNumProductTemplates()\n",
    "\n",
    "        # (原料数, 生成物数) == (2,1) の場合のみABY SMILESを取得してリストへ貼り付ける\n",
    "        if numRP == (2,1):            \n",
    "\n",
    "            reactants = rxn_mol.GetReactants()\n",
    "            A.append(Chem.MolToSmiles(reactants[0]))\n",
    "            B.append(Chem.MolToSmiles(reactants[1]))\n",
    "\n",
    "            product = rxn_mol.GetProducts()\n",
    "            Y.append(Chem.MolToSmiles(product[0]))\n",
    "\n",
    "#　それぞれのリストをデータフレームへまとめる\n",
    "df_ABY = pd.DataFrame({\"A\":A, \"B\":B, \"Y\":Y})\n",
    "\"\"\""
   ]
  },
  {
   "cell_type": "code",
   "execution_count": 5,
   "metadata": {},
   "outputs": [
    {
     "data": {
      "text/plain": [
       "'\\ndf_ABY2 = df_ABY.drop_duplicates()                .reset_index()                .drop(columns=[\"index\"])\\n\\ndf_ABY2.to_csv(\\'./ord_datasets/ord_datasets_csv/ord_datasets.csv\\',\\n              index=False)\\n'"
      ]
     },
     "execution_count": 5,
     "metadata": {},
     "output_type": "execute_result"
    }
   ],
   "source": [
    "\"\"\"\n",
    "df_ABY2 = df_ABY.drop_duplicates()\\\n",
    "                .reset_index()\\\n",
    "                .drop(columns=[\"index\"])\n",
    "\n",
    "df_ABY2.to_csv('./ord_datasets/ord_datasets_csv/ord_datasets.csv',\n",
    "              index=False)\n",
    "\"\"\"\n"
   ]
  },
  {
   "cell_type": "code",
   "execution_count": 6,
   "metadata": {},
   "outputs": [
    {
     "data": {
      "text/plain": [
       "'\\ndef get_ord_data(dataset_ids):\\n    #idからディレクトリを取得する\\n    if f\"{dataset_ids}.csv\" in \"./ord_datasets/ord_datasets_csv/\":\\n        dir_name = dataset_ids[len(\\'ord_dataset-\\'):len(\\'ord_dataset-\\')+2]\\n        pb = f\"./ord_datasets/ord-data/data/{dir_name}/{dataset_ids}.pb.gz\"  \\n        data = message_helpers.load_message(pb, dataset_pb2.Dataset) \\n        df = message_helpers.messages_to_dataframe(data.reactions,                                             drop_constant_columns=False)\\n        df.to_csv(f\\'./ord_datasets/ord_datasets_csv/{dataset_ids}.csv\\', index=False)\\n\\n    else:\\n        pass\\n    \\ndataset_ids.apply(lambda dataset_id: get_ord_data(dataset_id))\\n\\n    #message_helpers.find_submessages(data)\\n    #reaction_smiles = message_helpers.get_reaction_smiles(pb,\\n                                                        #generate_if_missing = True,\\n                                                        #)\\n    #df = message_helpers.messages_to_dataframe(data.reactions,                                             #drop_constant_columns=False)\\n    #df.to_csv(f\\'./ord_datasets/ord_datasets_csv/{id}.csv\\', index=False)\\n\\n\\nfrom rdkit import Chem\\nfrom rdkit.Chem import AllChem\\n\\nreaction_smiles = \"[C:1](Cl)(=O)C.[F:5][C:6]1[CH:7]=[C:8]([CH:12]=[CH:13][C:14]=1[N+:15]([O-:17])=[O:16])[C:9]([OH:11])=[O:10]>CO>[F:5][C:6]1[CH:7]=[C:8]([CH:12]=[CH:13][C:14]=1[N+:15]([O-:17])=[O:16])[C:9]([O:11][CH3:1])=[O:10]\"\\n\\n# RDKitの反応SMILESを読み込む\\nreaction = AllChem.ReactionFromSmarts(reaction_smiles)\\n\\n# 反応物のSMILESを抽出\\nreactant_smiles = [Chem.MolToSmiles(reactant) for reactant in reaction.GetReactants()]\\n\\n# 生成物のSMILESを抽出\\nproduct_smiles = [Chem.MolToSmiles(product) for product in reaction.GetProducts()]\\n\\n# 結果を出力\\nprint(\"反応物のSMILES:\", reactant_smiles)\\nprint(\"生成物のSMILES:\", product_smiles)\\nreactant = reaction.GetReactants()\\ntype(reactant[0])\\n    \\n'"
      ]
     },
     "execution_count": 6,
     "metadata": {},
     "output_type": "execute_result"
    }
   ],
   "source": [
    "#　ボツ\n",
    "# dataset_id からデータを読み込んでcsvファイルを出力する関数を定義\n",
    "# しかし, 途中で止まるのでこのアプローチは使えない\n",
    "'''\n",
    "def get_ord_data(dataset_ids):\n",
    "    #idからディレクトリを取得する\n",
    "    if f\"{dataset_ids}.csv\" in \"./ord_datasets/ord_datasets_csv/\":\n",
    "        dir_name = dataset_ids[len('ord_dataset-'):len('ord_dataset-')+2]\n",
    "        pb = f\"./ord_datasets/ord-data/data/{dir_name}/{dataset_ids}.pb.gz\"  \n",
    "        data = message_helpers.load_message(pb, dataset_pb2.Dataset) \n",
    "        df = message_helpers.messages_to_dataframe(data.reactions, \\\n",
    "                                            drop_constant_columns=False)\n",
    "        df.to_csv(f'./ord_datasets/ord_datasets_csv/{dataset_ids}.csv', index=False)\n",
    "\n",
    "    else:\n",
    "        pass\n",
    "    \n",
    "dataset_ids.apply(lambda dataset_id: get_ord_data(dataset_id))\n",
    "\n",
    "    #message_helpers.find_submessages(data)\n",
    "    #reaction_smiles = message_helpers.get_reaction_smiles(pb,\n",
    "                                                        #generate_if_missing = True,\n",
    "                                                        #)\n",
    "    #df = message_helpers.messages_to_dataframe(data.reactions, \\\n",
    "                                            #drop_constant_columns=False)\n",
    "    #df.to_csv(f'./ord_datasets/ord_datasets_csv/{id}.csv', index=False)\n",
    "\n",
    "\n",
    "from rdkit import Chem\n",
    "from rdkit.Chem import AllChem\n",
    "\n",
    "reaction_smiles = \"[C:1](Cl)(=O)C.[F:5][C:6]1[CH:7]=[C:8]([CH:12]=[CH:13][C:14]=1[N+:15]([O-:17])=[O:16])[C:9]([OH:11])=[O:10]>CO>[F:5][C:6]1[CH:7]=[C:8]([CH:12]=[CH:13][C:14]=1[N+:15]([O-:17])=[O:16])[C:9]([O:11][CH3:1])=[O:10]\"\n",
    "\n",
    "# RDKitの反応SMILESを読み込む\n",
    "reaction = AllChem.ReactionFromSmarts(reaction_smiles)\n",
    "\n",
    "# 反応物のSMILESを抽出\n",
    "reactant_smiles = [Chem.MolToSmiles(reactant) for reactant in reaction.GetReactants()]\n",
    "\n",
    "# 生成物のSMILESを抽出\n",
    "product_smiles = [Chem.MolToSmiles(product) for product in reaction.GetProducts()]\n",
    "\n",
    "# 結果を出力\n",
    "print(\"反応物のSMILES:\", reactant_smiles)\n",
    "print(\"生成物のSMILES:\", product_smiles)\n",
    "reactant = reaction.GetReactants()\n",
    "type(reactant[0])\n",
    "    \n",
    "'''"
   ]
  },
  {
   "attachments": {},
   "cell_type": "markdown",
   "metadata": {},
   "source": [
    "NumPyによるデータの取得\n",
    "\n",
    "データ取得に関しては一旦やめる"
   ]
  },
  {
   "cell_type": "code",
   "execution_count": 19,
   "metadata": {},
   "outputs": [
    {
     "name": "stdout",
     "output_type": "stream",
     "text": [
      "<class 'numpy.ndarray'>\n",
      "['ord_dataset-00005539a1e04c809a9a78647bea649c'\n",
      " 'ord_dataset-018fd0e1351f4fd09b20fcddd97b4c7a'\n",
      " 'ord_dataset-01dbb772c5e249108f0b191ed17a2c0c'\n",
      " 'ord_dataset-02ee2261663048188cf6d85d2cc96e3f'\n",
      " 'ord_dataset-0387783899c642a8b7eb4ba379bcdf5d']\n"
     ]
    }
   ],
   "source": [
    "# dataset_ids Series をndarray配列へ変換する\n",
    "nIDs = np.array(dataset_ids)\n",
    "print(type(nIDs))\n",
    "print(nIDs[:5])"
   ]
  },
  {
   "cell_type": "code",
   "execution_count": 20,
   "metadata": {},
   "outputs": [
    {
     "data": {
      "text/plain": [
       "'\\ndef np_alldata(id):\\n\\n    # dataset idの\\'ord_dataset-\\'後2文字を取得する\\n    o = len(\\'ord_dataset-\\')\\n    dir_num = id[o:o+2]\\n\\n    # dataset idのディレクトリへ移動\\n    # 生データを取得する\\n    pb = f\"./ord_datasets/ord-data/data/{dir_num}/{id}.pb.gz\"  \\n    data = message_helpers.load_message(pb, dataset_pb2.Dataset)\\n\\n    # 取得した生データをndarray配列へ変換\\n    nd_subdata = np.array(data.reactions)\\n    \\n    # 各データセット中の各反応に対してReaction SMILESを取得する\\n    nd_RXNData = np.array([rxndata for rxndata in nd_subdata])\\n    nd_RXNSmiles = np.array([message_helpers.get_reaction_smiles(rxn,\\n                                                                 generate_if_missing = True,\\n                                                                ) for rxn in nd_RXNData])\\n    \\n    \\n    return rxn_smiles\\n\\n\\ndf_ABY = pd.DataFrame({\"A\":A, \"B\":B, \"Y\":Y})\\n\\nnew_all_data_1 = np.frompyfunc(all_data_1, 1, 1)\\n\\n\\nnsubdataset = new_all_data_1(nIDs)\\n'"
      ]
     },
     "execution_count": 20,
     "metadata": {},
     "output_type": "execute_result"
    }
   ],
   "source": [
    "# リスト内方表記にした方が速い?\n",
    "\"\"\"\n",
    "def np_alldata(id):\n",
    "\n",
    "    # dataset idの'ord_dataset-'後2文字を取得する\n",
    "    o = len('ord_dataset-')\n",
    "    dir_num = id[o:o+2]\n",
    "\n",
    "    # dataset idのディレクトリへ移動\n",
    "    # 生データを取得する\n",
    "    pb = f\"./ord_datasets/ord-data/data/{dir_num}/{id}.pb.gz\"  \n",
    "    data = message_helpers.load_message(pb, dataset_pb2.Dataset)\n",
    "\n",
    "    # 取得した生データをndarray配列へ変換\n",
    "    nd_subdata = np.array(data.reactions)\n",
    "    \n",
    "    # 各データセット中の各反応に対してReaction SMILESを取得する\n",
    "    nd_RXNData = np.array([rxndata for rxndata in nd_subdata])\n",
    "    nd_RXNSmiles = np.array([message_helpers.get_reaction_smiles(rxn,\n",
    "                                                                 generate_if_missing = True,\n",
    "                                                                ) for rxn in nd_RXNData])\n",
    "    \n",
    "    \n",
    "    return rxn_smiles\n",
    "\n",
    "\n",
    "df_ABY = pd.DataFrame({\"A\":A, \"B\":B, \"Y\":Y})\n",
    "\n",
    "new_all_data_1 = np.frompyfunc(all_data_1, 1, 1)\n",
    "\n",
    "\n",
    "nsubdataset = new_all_data_1(nIDs)\n",
    "\"\"\"\n"
   ]
  },
  {
   "attachments": {},
   "cell_type": "markdown",
   "metadata": {},
   "source": [
    "取得したSMILESからFingerPrintを生成\n",
    "\n",
    "こちらはNumPyで行ないいたい"
   ]
  },
  {
   "cell_type": "code",
   "execution_count": 9,
   "metadata": {},
   "outputs": [
    {
     "data": {
      "text/plain": [
       "(335280, 3)"
      ]
     },
     "execution_count": 9,
     "metadata": {},
     "output_type": "execute_result"
    }
   ],
   "source": [
    "# df_ABY2データフレームをndarray配列へ変換\n",
    "df_ABY2 = pd.read_csv('./ord_datasets/ord_datasets_csv/ord_datasets.csv', index_col=None)\n",
    "nd_Smiles = df_ABY2.iloc[:, 1:4].values\n",
    "nd_Smiles.shape"
   ]
  },
  {
   "cell_type": "code",
   "execution_count": 33,
   "metadata": {},
   "outputs": [
    {
     "name": "stderr",
     "output_type": "stream",
     "text": [
      "[12:58:27] Explicit valence for atom # 14 Cl, 2, is greater than permitted\n",
      "[12:58:27] Explicit valence for atom # 14 Cl, 2, is greater than permitted\n",
      "[12:58:27] WARNING: not removing hydrogen atom without neighbors\n",
      "[12:58:28] WARNING: not removing hydrogen atom without neighbors\n",
      "[12:58:32] WARNING: not removing hydrogen atom without neighbors\n",
      "[12:58:35] Explicit valence for atom # 0 N, 5, is greater than permitted\n",
      "[12:58:35] Explicit valence for atom # 0 Br, 2, is greater than permitted\n",
      "[12:58:37] Explicit valence for atom # 0 Cl, 7, is greater than permitted\n",
      "[12:58:39] WARNING: not removing hydrogen atom without neighbors\n",
      "[12:58:42] WARNING: not removing hydrogen atom without neighbors\n",
      "[12:58:44] WARNING: not removing hydrogen atom without neighbors\n",
      "[12:58:44] WARNING: not removing hydrogen atom without neighbors\n",
      "[12:58:45] Explicit valence for atom # 1 C, 5, is greater than permitted\n",
      "[12:58:45] Explicit valence for atom # 4 Cl, 3, is greater than permitted\n",
      "[12:58:45] Explicit valence for atom # 1 Cl, 7, is greater than permitted\n",
      "[12:58:46] Explicit valence for atom # 0 N, 5, is greater than permitted\n",
      "[12:58:46] Explicit valence for atom # 0 N, 5, is greater than permitted\n",
      "[12:58:46] Explicit valence for atom # 0 H, 2, is greater than permitted\n",
      "[12:58:47] Explicit valence for atom # 0 H, 2, is greater than permitted\n",
      "[12:58:47] WARNING: not removing hydrogen atom without neighbors\n",
      "[12:58:47] Explicit valence for atom # 0 N, 5, is greater than permitted\n",
      "[12:58:47] WARNING: not removing hydrogen atom without neighbors\n",
      "[12:58:47] WARNING: not removing hydrogen atom without neighbors\n",
      "[12:58:47] WARNING: not removing hydrogen atom without neighbors\n",
      "[12:58:48] WARNING: not removing hydrogen atom without neighbors\n",
      "[12:58:48] Explicit valence for atom # 0 H, 2, is greater than permitted\n",
      "[12:58:48] WARNING: not removing hydrogen atom without neighbors\n",
      "[12:58:48] Explicit valence for atom # 0 N, 5, is greater than permitted\n",
      "[12:58:49] WARNING: not removing hydrogen atom without neighbors\n",
      "[12:58:49] WARNING: not removing hydrogen atom without neighbors\n",
      "[12:58:49] WARNING: not removing hydrogen atom without neighbors\n",
      "[12:58:49] WARNING: not removing hydrogen atom without neighbors\n",
      "[12:58:50] Explicit valence for atom # 1 Cl, 5, is greater than permitted\n",
      "[12:58:50] Explicit valence for atom # 1 Cl, 5, is greater than permitted\n",
      "[12:58:50] Explicit valence for atom # 0 N, 5, is greater than permitted\n",
      "[12:58:50] WARNING: not removing hydrogen atom without neighbors\n",
      "[12:58:50] WARNING: not removing hydrogen atom without neighbors\n",
      "[12:58:50] Explicit valence for atom # 1 Cl, 7, is greater than permitted\n",
      "[12:58:50] Explicit valence for atom # 0 N, 5, is greater than permitted\n",
      "[12:58:51] WARNING: not removing hydrogen atom without neighbors\n",
      "[12:58:51] WARNING: not removing hydrogen atom without neighbors\n",
      "[12:58:52] Explicit valence for atom # 0 N, 5, is greater than permitted\n",
      "[12:58:52] WARNING: not removing hydrogen atom without neighbors\n",
      "[12:58:52] Explicit valence for atom # 0 N, 5, is greater than permitted\n",
      "[12:58:52] Explicit valence for atom # 0 N, 5, is greater than permitted\n",
      "[12:58:52] Explicit valence for atom # 0 N, 5, is greater than permitted\n",
      "[12:58:52] WARNING: not removing hydrogen atom without neighbors\n",
      "[12:58:54] WARNING: not removing hydrogen atom without neighbors\n",
      "[12:58:54] WARNING: not removing hydrogen atom without neighbors\n",
      "[12:58:55] WARNING: not removing hydrogen atom without neighbors\n",
      "[12:58:55] WARNING: not removing hydrogen atom without neighbors\n",
      "[12:58:56] Explicit valence for atom # 0 N, 5, is greater than permitted\n",
      "[12:58:56] Explicit valence for atom # 0 N, 5, is greater than permitted\n",
      "[12:58:56] Explicit valence for atom # 0 N, 5, is greater than permitted\n",
      "[12:58:56] Explicit valence for atom # 0 N, 5, is greater than permitted\n",
      "[12:59:05] Explicit valence for atom # 13 Cl, 3, is greater than permitted\n",
      "[12:59:06] Explicit valence for atom # 0 Cl, 3, is greater than permitted\n",
      "[12:59:10] Explicit valence for atom # 0 Cl, 7, is greater than permitted\n"
     ]
    },
    {
     "data": {
      "text/plain": [
       "(335280, 3)"
      ]
     },
     "execution_count": 30,
     "metadata": {},
     "output_type": "execute_result"
    },
    {
     "ename": "KeyboardInterrupt",
     "evalue": "",
     "output_type": "error",
     "traceback": [
      "\u001b[0;31m---------------------------------------------------------------------------\u001b[0m",
      "\u001b[0;31mKeyboardInterrupt\u001b[0m                         Traceback (most recent call last)",
      "\u001b[0;31mKeyboardInterrupt\u001b[0m: "
     ]
    },
    {
     "name": "stderr",
     "output_type": "stream",
     "text": [
      "[13:00:58] Explicit valence for atom # 14 Cl, 2, is greater than permitted\n",
      "[13:00:58] Explicit valence for atom # 14 Cl, 2, is greater than permitted\n",
      "[13:00:58] WARNING: not removing hydrogen atom without neighbors\n",
      "[13:00:58] WARNING: not removing hydrogen atom without neighbors\n",
      "[13:01:03] WARNING: not removing hydrogen atom without neighbors\n",
      "[13:01:05] Explicit valence for atom # 0 N, 5, is greater than permitted\n",
      "[13:01:06] Explicit valence for atom # 0 Br, 2, is greater than permitted\n",
      "[13:01:07] Explicit valence for atom # 0 Cl, 7, is greater than permitted\n",
      "[13:01:10] WARNING: not removing hydrogen atom without neighbors\n",
      "[13:01:13] WARNING: not removing hydrogen atom without neighbors\n",
      "[13:01:15] WARNING: not removing hydrogen atom without neighbors\n",
      "[13:01:15] WARNING: not removing hydrogen atom without neighbors\n",
      "[13:01:15] Explicit valence for atom # 1 C, 5, is greater than permitted\n",
      "[13:01:15] Explicit valence for atom # 4 Cl, 3, is greater than permitted\n",
      "[13:01:16] Explicit valence for atom # 1 Cl, 7, is greater than permitted\n",
      "[13:01:16] Explicit valence for atom # 0 N, 5, is greater than permitted\n",
      "[13:01:16] Explicit valence for atom # 0 N, 5, is greater than permitted\n",
      "[13:01:16] Explicit valence for atom # 0 H, 2, is greater than permitted\n",
      "[13:01:18] Explicit valence for atom # 0 H, 2, is greater than permitted\n",
      "[13:01:18] WARNING: not removing hydrogen atom without neighbors\n",
      "[13:01:18] Explicit valence for atom # 0 N, 5, is greater than permitted\n",
      "[13:01:18] WARNING: not removing hydrogen atom without neighbors\n",
      "[13:01:18] WARNING: not removing hydrogen atom without neighbors\n",
      "[13:01:19] WARNING: not removing hydrogen atom without neighbors\n",
      "[13:01:19] WARNING: not removing hydrogen atom without neighbors\n",
      "[13:01:19] Explicit valence for atom # 0 H, 2, is greater than permitted\n",
      "[13:01:19] WARNING: not removing hydrogen atom without neighbors\n",
      "[13:01:20] Explicit valence for atom # 0 N, 5, is greater than permitted\n",
      "[13:01:20] WARNING: not removing hydrogen atom without neighbors\n",
      "[13:01:20] WARNING: not removing hydrogen atom without neighbors\n",
      "[13:01:20] WARNING: not removing hydrogen atom without neighbors\n",
      "[13:01:20] WARNING: not removing hydrogen atom without neighbors\n",
      "[13:01:21] Explicit valence for atom # 1 Cl, 5, is greater than permitted\n",
      "[13:01:21] Explicit valence for atom # 1 Cl, 5, is greater than permitted\n",
      "[13:01:21] Explicit valence for atom # 0 N, 5, is greater than permitted\n",
      "[13:01:21] WARNING: not removing hydrogen atom without neighbors\n",
      "[13:01:21] WARNING: not removing hydrogen atom without neighbors\n",
      "[13:01:21] Explicit valence for atom # 1 Cl, 7, is greater than permitted\n",
      "[13:01:21] Explicit valence for atom # 0 N, 5, is greater than permitted\n",
      "[13:01:22] WARNING: not removing hydrogen atom without neighbors\n",
      "[13:01:22] WARNING: not removing hydrogen atom without neighbors\n",
      "[13:01:23] Explicit valence for atom # 0 N, 5, is greater than permitted\n",
      "[13:01:23] WARNING: not removing hydrogen atom without neighbors\n",
      "[13:01:23] Explicit valence for atom # 0 N, 5, is greater than permitted\n",
      "[13:01:23] Explicit valence for atom # 0 N, 5, is greater than permitted\n",
      "[13:01:23] Explicit valence for atom # 0 N, 5, is greater than permitted\n",
      "[13:01:23] WARNING: not removing hydrogen atom without neighbors\n",
      "[13:01:25] WARNING: not removing hydrogen atom without neighbors\n",
      "[13:01:25] WARNING: not removing hydrogen atom without neighbors\n",
      "[13:01:26] WARNING: not removing hydrogen atom without neighbors\n",
      "[13:01:26] WARNING: not removing hydrogen atom without neighbors\n",
      "[13:01:27] Explicit valence for atom # 0 N, 5, is greater than permitted\n",
      "[13:01:27] Explicit valence for atom # 0 N, 5, is greater than permitted\n",
      "[13:01:27] Explicit valence for atom # 0 N, 5, is greater than permitted\n",
      "[13:01:27] Explicit valence for atom # 0 N, 5, is greater than permitted\n",
      "[13:01:36] Explicit valence for atom # 13 Cl, 3, is greater than permitted\n",
      "[13:01:37] Explicit valence for atom # 0 Cl, 3, is greater than permitted\n",
      "[13:01:41] Explicit valence for atom # 0 Cl, 7, is greater than permitted\n"
     ]
    },
    {
     "data": {
      "text/plain": [
       "(335280, 3)"
      ]
     },
     "execution_count": 33,
     "metadata": {},
     "output_type": "execute_result"
    }
   ],
   "source": [
    "# すべての SMILES をMolオブジェクトへ変換\n",
    "\n",
    "uf_MolFromSmiles = np.frompyfunc(Chem.MolFromSmiles, 1,1)\n",
    "nd_Mol = uf_MolFromSmiles(nd_Smiles)\n",
    "nd_Mol.shape"
   ]
  },
  {
   "cell_type": "code",
   "execution_count": 35,
   "metadata": {},
   "outputs": [
    {
     "data": {
      "text/plain": [
       "(335250, 3)"
      ]
     },
     "execution_count": 35,
     "metadata": {},
     "output_type": "execute_result"
    }
   ],
   "source": [
    "# 上のエラーに示すように, SMILESがエラーだった場合MolオブジェクトがNoneになる.\n",
    "# Noneを含む行を削除する\n",
    "nd_Mol_copy = nd_Mol\n",
    "nd_Mol2 = np.array([row for row in nd_Mol_copy if not any(elem is None for elem in row)])\n",
    "nd_Mol2.shape"
   ]
  },
  {
   "cell_type": "code",
   "execution_count": 36,
   "metadata": {},
   "outputs": [],
   "source": [
    "# すべての Molオブジェクト を Maccs Fps へ変換\n",
    "# 構造エラーでMolがNoneになっている可能性がある\n",
    "\n",
    "u_GetMACCSFps = np.frompyfunc(AllChem.GetMACCSKeysFingerprint, 1, 1)\n",
    "nd_MACCSFps = u_GetMACCSFps(nd_Mol2)\n",
    "nd_MACCSFps.shape\n"
   ]
  },
  {
   "cell_type": "code",
   "execution_count": 42,
   "metadata": {},
   "outputs": [
    {
     "data": {
      "text/html": [
       "<div>\n",
       "<style scoped>\n",
       "    .dataframe tbody tr th:only-of-type {\n",
       "        vertical-align: middle;\n",
       "    }\n",
       "\n",
       "    .dataframe tbody tr th {\n",
       "        vertical-align: top;\n",
       "    }\n",
       "\n",
       "    .dataframe thead th {\n",
       "        text-align: right;\n",
       "    }\n",
       "</style>\n",
       "<table border=\"1\" class=\"dataframe\">\n",
       "  <thead>\n",
       "    <tr style=\"text-align: right;\">\n",
       "      <th></th>\n",
       "      <th>A</th>\n",
       "      <th>B</th>\n",
       "      <th>Y</th>\n",
       "    </tr>\n",
       "  </thead>\n",
       "  <tbody>\n",
       "    <tr>\n",
       "      <th>0</th>\n",
       "      <td>CC(C)N1CCNCC1</td>\n",
       "      <td>CCOC(=O)c1cnc2cc(OCC)c(Br)cc2c1Nc1ccc(F)cc1F</td>\n",
       "      <td>CCOC(=O)c1cnc2cc(OCC)c(N3CCN(C(C)C)CC3)cc2c1Nc...</td>\n",
       "    </tr>\n",
       "    <tr>\n",
       "      <th>1</th>\n",
       "      <td>Ic1ccccc1</td>\n",
       "      <td>COC(=O)c1cc2c(ncn2C)c(F)c1N</td>\n",
       "      <td>COC(=O)c1cc2c(ncn2C)c(F)c1Nc1ccccc1</td>\n",
       "    </tr>\n",
       "    <tr>\n",
       "      <th>2</th>\n",
       "      <td>Nc1ccc(S(N)(=O)=O)cc1</td>\n",
       "      <td>Cc1ccc(Oc2ccnc(Cl)c2)c(C)n1</td>\n",
       "      <td>Cc1ccc(Oc2ccnc(Nc3ccc(S(N)(=O)=O)cc3)c2)c(C)n1</td>\n",
       "    </tr>\n",
       "    <tr>\n",
       "      <th>3</th>\n",
       "      <td>Brc1cncc(Br)c1</td>\n",
       "      <td>CC(=O)N1CCNCC1</td>\n",
       "      <td>CC(=O)N1CCN(c2cncc(Br)c2)CC1</td>\n",
       "    </tr>\n",
       "    <tr>\n",
       "      <th>4</th>\n",
       "      <td>Nc1ccc(-n2ccnc2)cc1</td>\n",
       "      <td>CN1Cc2ccc(Cl)nc2OC(c2ccccc2)C1</td>\n",
       "      <td>CN1Cc2ccc(Nc3ccc(-n4ccnc4)cc3)nc2OC(c2ccccc2)C1</td>\n",
       "    </tr>\n",
       "    <tr>\n",
       "      <th>...</th>\n",
       "      <td>...</td>\n",
       "      <td>...</td>\n",
       "      <td>...</td>\n",
       "    </tr>\n",
       "    <tr>\n",
       "      <th>335245</th>\n",
       "      <td>CC(C)(C)OC(=O)[N:8]1[CH2:9][C@H:10]2[CH2:11][C...</td>\n",
       "      <td>[Cl:46][c:47]1[c:48]([CH2:49][NH:50][CH:51]2[C...</td>\n",
       "      <td>[NH:8]1[CH2:9][C@H:10]2[CH2:11][C:12]([c:27]3[...</td>\n",
       "    </tr>\n",
       "    <tr>\n",
       "      <th>335246</th>\n",
       "      <td>CC(C)(C)OC(=O)[N:8]1[CH2:9][C@H:10]2[CH2:11][C...</td>\n",
       "      <td>[Cl:46][c:47]1[c:48]([CH2:49][NH:50][CH:51]2[C...</td>\n",
       "      <td>[NH:8]1[CH2:9][C@H:10]2[CH2:11][C:12]([c:27]3[...</td>\n",
       "    </tr>\n",
       "    <tr>\n",
       "      <th>335247</th>\n",
       "      <td>CC(C)(C)OC(=O)[N:8]1[CH2:9][C@H:10]2[CH2:11][C...</td>\n",
       "      <td>[CH:46]1([NH:49][CH2:50][c:51]2[c:52]([CH3:61]...</td>\n",
       "      <td>[NH:8]1[CH2:9][C@H:10]2[CH2:11][C:12]([c:27]3[...</td>\n",
       "    </tr>\n",
       "    <tr>\n",
       "      <th>335248</th>\n",
       "      <td>CC(C)(C)OC(=O)[N:8]1[CH2:9][C@H:10]2[CH2:11][C...</td>\n",
       "      <td>[CH:46]1([NH:49][CH2:50][c:51]2[c:52]([CH3:62]...</td>\n",
       "      <td>[NH:8]1[CH2:9][C@H:10]2[CH2:11][C:12]([c:27]3[...</td>\n",
       "    </tr>\n",
       "    <tr>\n",
       "      <th>335249</th>\n",
       "      <td>CC(C)(C)OC(=O)[N:8]1[CH2:9][C@H:10]2[CH2:11][C...</td>\n",
       "      <td>[CH:46]1([NH:49][CH2:50][c:51]2[c:52]([Cl:63])...</td>\n",
       "      <td>[NH:8]1[CH2:9][C@H:10]2[CH2:11][C:12]([c:27]3[...</td>\n",
       "    </tr>\n",
       "  </tbody>\n",
       "</table>\n",
       "<p>335250 rows × 3 columns</p>\n",
       "</div>"
      ],
      "text/plain": [
       "                                                        A  \\\n",
       "0                                           CC(C)N1CCNCC1   \n",
       "1                                               Ic1ccccc1   \n",
       "2                                   Nc1ccc(S(N)(=O)=O)cc1   \n",
       "3                                          Brc1cncc(Br)c1   \n",
       "4                                     Nc1ccc(-n2ccnc2)cc1   \n",
       "...                                                   ...   \n",
       "335245  CC(C)(C)OC(=O)[N:8]1[CH2:9][C@H:10]2[CH2:11][C...   \n",
       "335246  CC(C)(C)OC(=O)[N:8]1[CH2:9][C@H:10]2[CH2:11][C...   \n",
       "335247  CC(C)(C)OC(=O)[N:8]1[CH2:9][C@H:10]2[CH2:11][C...   \n",
       "335248  CC(C)(C)OC(=O)[N:8]1[CH2:9][C@H:10]2[CH2:11][C...   \n",
       "335249  CC(C)(C)OC(=O)[N:8]1[CH2:9][C@H:10]2[CH2:11][C...   \n",
       "\n",
       "                                                        B  \\\n",
       "0            CCOC(=O)c1cnc2cc(OCC)c(Br)cc2c1Nc1ccc(F)cc1F   \n",
       "1                             COC(=O)c1cc2c(ncn2C)c(F)c1N   \n",
       "2                             Cc1ccc(Oc2ccnc(Cl)c2)c(C)n1   \n",
       "3                                          CC(=O)N1CCNCC1   \n",
       "4                          CN1Cc2ccc(Cl)nc2OC(c2ccccc2)C1   \n",
       "...                                                   ...   \n",
       "335245  [Cl:46][c:47]1[c:48]([CH2:49][NH:50][CH:51]2[C...   \n",
       "335246  [Cl:46][c:47]1[c:48]([CH2:49][NH:50][CH:51]2[C...   \n",
       "335247  [CH:46]1([NH:49][CH2:50][c:51]2[c:52]([CH3:61]...   \n",
       "335248  [CH:46]1([NH:49][CH2:50][c:51]2[c:52]([CH3:62]...   \n",
       "335249  [CH:46]1([NH:49][CH2:50][c:51]2[c:52]([Cl:63])...   \n",
       "\n",
       "                                                        Y  \n",
       "0       CCOC(=O)c1cnc2cc(OCC)c(N3CCN(C(C)C)CC3)cc2c1Nc...  \n",
       "1                     COC(=O)c1cc2c(ncn2C)c(F)c1Nc1ccccc1  \n",
       "2          Cc1ccc(Oc2ccnc(Nc3ccc(S(N)(=O)=O)cc3)c2)c(C)n1  \n",
       "3                            CC(=O)N1CCN(c2cncc(Br)c2)CC1  \n",
       "4         CN1Cc2ccc(Nc3ccc(-n4ccnc4)cc3)nc2OC(c2ccccc2)C1  \n",
       "...                                                   ...  \n",
       "335245  [NH:8]1[CH2:9][C@H:10]2[CH2:11][C:12]([c:27]3[...  \n",
       "335246  [NH:8]1[CH2:9][C@H:10]2[CH2:11][C:12]([c:27]3[...  \n",
       "335247  [NH:8]1[CH2:9][C@H:10]2[CH2:11][C:12]([c:27]3[...  \n",
       "335248  [NH:8]1[CH2:9][C@H:10]2[CH2:11][C:12]([c:27]3[...  \n",
       "335249  [NH:8]1[CH2:9][C@H:10]2[CH2:11][C:12]([c:27]3[...  \n",
       "\n",
       "[335250 rows x 3 columns]"
      ]
     },
     "execution_count": 42,
     "metadata": {},
     "output_type": "execute_result"
    }
   ],
   "source": [
    "# MACCSFPsとSMILESを対応させるため削除したnd_Mol2からSMILESを生成\n",
    "uf_MolToSmiles = np.frompyfunc(Chem.MolToSmiles, 1,1)\n",
    "nd_Smiles2 = uf_MolToSmiles(nd_Mol2)\n",
    "df_Smiles = pd.DataFrame(nd_Smiles2,columns=[\"A\", \"B\", \"Y\"])\n",
    "df_Smiles\n"
   ]
  },
  {
   "cell_type": "code",
   "execution_count": 48,
   "metadata": {},
   "outputs": [],
   "source": [
    "# nd_MACCSFpsもdf化してdf_Smilesと合わせてcsvへ\n",
    "df_MACCSFps = pd.DataFrame(nd_MACCSFps,columns=[\"maccs_A\", \"maccs_B\", \"maccs_Y\"])\n",
    "df_SmilesMACCSFps = pd.concat([df_Smiles, df_MACCSFps], axis=1) \n",
    "df_SmilesMACCSFps.to_csv(\"./ord_datasets/ord_datasets_csv/ord_SmilesMACCSFps.csv\")"
   ]
  },
  {
   "cell_type": "code",
   "execution_count": 39,
   "metadata": {},
   "outputs": [
    {
     "ename": "KeyboardInterrupt",
     "evalue": "",
     "output_type": "error",
     "traceback": [
      "\u001b[0;31m---------------------------------------------------------------------------\u001b[0m",
      "\u001b[0;31mKeyboardInterrupt\u001b[0m                         Traceback (most recent call last)",
      "Cell \u001b[0;32mIn[39], line 1\u001b[0m\n\u001b[0;32m----> 1\u001b[0m nd_MACCSFps2 \u001b[39m=\u001b[39m np\u001b[39m.\u001b[39;49marray([[AllChem\u001b[39m.\u001b[39;49mGetMACCSKeysFingerprint(mol) \u001b[39mfor\u001b[39;49;00m mol \u001b[39min\u001b[39;49;00m row] \u001b[39mfor\u001b[39;49;00m row \u001b[39min\u001b[39;49;00m nd_Mol2])\n\u001b[1;32m      2\u001b[0m nd_MACCSFps2\n",
      "\u001b[0;31mKeyboardInterrupt\u001b[0m: "
     ]
    }
   ],
   "source": [
    "# ufunc化した上記の方法が圧倒的に速い\n",
    "\"\"\"\n",
    "nd_MACCSFps2 = np.array([[AllChem.GetMACCSKeysFingerprint(mol) for mol in row] for row in nd_Mol2])\n",
    "nd_MACCSFps2\n",
    "\"\"\""
   ]
  },
  {
   "cell_type": "code",
   "execution_count": 25,
   "metadata": {},
   "outputs": [
    {
     "name": "stdout",
     "output_type": "stream",
     "text": [
      "None\n"
     ]
    },
    {
     "name": "stderr",
     "output_type": "stream",
     "text": [
      "[12:52:13] SMILES Parse Error: syntax error while parsing: [N2:1][C:2]1=[CH:30][C:6]2=[C:5]([CH:4]=[CH:3]1)[N:9]=[CH:8][N:7]2[CH2:10][CH2:11][CH2:12][CH2:13][N:14]1[CH2:15][CH2:16][N:17]([C:20]2=[CH:21][C:22]3=[C:23]([O:24][CH2:25][CH2:26][O:27]3)[CH:28]=[CH:29]2)[CH2:18][CH2:19]1\n",
      "[12:52:13] SMILES Parse Error: Failed parsing SMILES '[N2:1][C:2]1=[CH:30][C:6]2=[C:5]([CH:4]=[CH:3]1)[N:9]=[CH:8][N:7]2[CH2:10][CH2:11][CH2:12][CH2:13][N:14]1[CH2:15][CH2:16][N:17]([C:20]2=[CH:21][C:22]3=[C:23]([O:24][CH2:25][CH2:26][O:27]3)[CH:28]=[CH:29]2)[CH2:18][CH2:19]1' for input: '[N2:1][C:2]1=[CH:30][C:6]2=[C:5]([CH:4]=[CH:3]1)[N:9]=[CH:8][N:7]2[CH2:10][CH2:11][CH2:12][CH2:13][N:14]1[CH2:15][CH2:16][N:17]([C:20]2=[CH:21][C:22]3=[C:23]([O:24][CH2:25][CH2:26][O:27]3)[CH:28]=[CH:29]2)[CH2:18][CH2:19]1'\n"
     ]
    }
   ],
   "source": [
    "smiles = \"[N2:1][C:2]1=[CH:30][C:6]2=[C:5]([CH:4]=[CH:3]1)[N:9]=[CH:8][N:7]2[CH2:10][CH2:11][CH2:12][CH2:13][N:14]1[CH2:15][CH2:16][N:17]([C:20]2=[CH:21][C:22]3=[C:23]([O:24][CH2:25][CH2:26][O:27]3)[CH:28]=[CH:29]2)[CH2:18][CH2:19]1\"\n",
    "mol = Chem.MolFromSmiles(smiles)\n",
    "print(mol)"
   ]
  },
  {
   "cell_type": "code",
   "execution_count": null,
   "metadata": {},
   "outputs": [],
   "source": []
  }
 ],
 "metadata": {
  "kernelspec": {
   "display_name": "Python 3",
   "language": "python",
   "name": "python3"
  },
  "language_info": {
   "codemirror_mode": {
    "name": "ipython",
    "version": 3
   },
   "file_extension": ".py",
   "mimetype": "text/x-python",
   "name": "python",
   "nbconvert_exporter": "python",
   "pygments_lexer": "ipython3",
   "version": "3.11.3"
  },
  "orig_nbformat": 4
 },
 "nbformat": 4,
 "nbformat_minor": 2
}
